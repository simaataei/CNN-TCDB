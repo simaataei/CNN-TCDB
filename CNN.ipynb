{
  "nbformat": 4,
  "nbformat_minor": 0,
  "metadata": {
    "colab": {
      "name": "CNN.ipynb",
      "provenance": [],
      "authorship_tag": "ABX9TyNFzI1RTb1enU892sIv2XnA",
      "include_colab_link": true
    },
    "kernelspec": {
      "name": "python3",
      "display_name": "Python 3"
    },
    "language_info": {
      "name": "python"
    }
  },
  "cells": [
    {
      "cell_type": "markdown",
      "metadata": {
        "id": "view-in-github",
        "colab_type": "text"
      },
      "source": [
        "<a href=\"https://colab.research.google.com/github/simaataei/CNN-TCDB/blob/main/CNN.ipynb\" target=\"_parent\"><img src=\"https://colab.research.google.com/assets/colab-badge.svg\" alt=\"Open In Colab\"/></a>"
      ]
    },
    {
      "cell_type": "code",
      "metadata": {
        "colab": {
          "base_uri": "https://localhost:8080/"
        },
        "id": "U-Y5NCweoBbq",
        "outputId": "aca685cc-8203-4ecc-890b-66cf0f1d5fb1"
      },
      "source": [
        "!pip install Bio\n"
      ],
      "execution_count": 5,
      "outputs": [
        {
          "output_type": "stream",
          "text": [
            "Collecting Bio\n",
            "\u001b[?25l  Downloading https://files.pythonhosted.org/packages/43/f1/34f9d2f010be943b1884005ed0ef344f571876d0eb0a55cb4f00e39d2f0f/bio-0.5.0-py3-none-any.whl (94kB)\n",
            "\u001b[K     |████████████████████████████████| 102kB 4.2MB/s \n",
            "\u001b[?25hCollecting biopython>=1.78\n",
            "\u001b[?25l  Downloading https://files.pythonhosted.org/packages/3a/cd/0098eaff841850c01da928c7f509b72fd3e1f51d77b772e24de9e2312471/biopython-1.78-cp37-cp37m-manylinux1_x86_64.whl (2.3MB)\n",
            "\u001b[K     |████████████████████████████████| 2.3MB 9.0MB/s \n",
            "\u001b[?25hRequirement already satisfied: plac in /usr/local/lib/python3.7/dist-packages (from Bio) (1.1.3)\n",
            "Requirement already satisfied: requests in /usr/local/lib/python3.7/dist-packages (from Bio) (2.23.0)\n",
            "Requirement already satisfied: numpy<1.20 in /usr/local/lib/python3.7/dist-packages (from Bio) (1.19.5)\n",
            "Requirement already satisfied: certifi>=2017.4.17 in /usr/local/lib/python3.7/dist-packages (from requests->Bio) (2020.12.5)\n",
            "Requirement already satisfied: urllib3!=1.25.0,!=1.25.1,<1.26,>=1.21.1 in /usr/local/lib/python3.7/dist-packages (from requests->Bio) (1.24.3)\n",
            "Requirement already satisfied: chardet<4,>=3.0.2 in /usr/local/lib/python3.7/dist-packages (from requests->Bio) (3.0.4)\n",
            "Requirement already satisfied: idna<3,>=2.5 in /usr/local/lib/python3.7/dist-packages (from requests->Bio) (2.10)\n",
            "Installing collected packages: biopython, Bio\n",
            "Successfully installed Bio-0.5.0 biopython-1.78\n"
          ],
          "name": "stdout"
        }
      ]
    },
    {
      "cell_type": "code",
      "metadata": {
        "id": "k_Kp9pOob28Z"
      },
      "source": [
        "import numpy as np\n",
        "import torch\n",
        "import torch.nn as nn\n",
        "import torch.optim as optim\n",
        "from torch.utils.data import Dataset, DataLoader\n",
        "from google.colab import files\n",
        "from Bio import SeqIO\n"
      ],
      "execution_count": 2,
      "outputs": []
    },
    {
      "cell_type": "code",
      "metadata": {
        "colab": {
          "base_uri": "https://localhost:8080/"
        },
        "id": "jquW7GCscTZV",
        "outputId": "8f4f5a4f-0f83-4870-dd42-69973697a157"
      },
      "source": [
        "#load\n",
        "from google.colab import drive\n",
        "drive.mount('/content/drive')\n"
      ],
      "execution_count": 19,
      "outputs": [
        {
          "output_type": "stream",
          "text": [
            "Mounted at /content/drive\n"
          ],
          "name": "stdout"
        }
      ]
    },
    {
      "cell_type": "code",
      "metadata": {
        "colab": {
          "base_uri": "https://localhost:8080/"
        },
        "id": "5zdlt5PfojZF",
        "outputId": "558d9475-4aa0-40b0-c4c5-0f7615a16a7a"
      },
      "source": [
        "#load\n",
        "data = list(SeqIO.parse('/content/drive/My Drive/tcdb26May2021.txt', \"fasta\"))\n"
      ],
      "execution_count": 9,
      "outputs": [
        {
          "output_type": "stream",
          "text": [
            "ID: gnl|TC-DB|1001796365|4.F.1.1.5\n",
            "Name: gnl|TC-DB|1001796365|4.F.1.1.5\n",
            "Description: gnl|TC-DB|1001796365|4.F.1.1.5 CDP-alcohol phosphatidyltransferase [Marinobacter excellens]\n",
            "Number of features: 0\n",
            "Seq('MDSIRPATFQIPAAVRELGWAALLLFFVLLSVHEWFSPPGWFGLLAILIFATQG...HEN')\n"
          ],
          "name": "stdout"
        }
      ]
    },
    {
      "cell_type": "code",
      "metadata": {
        "colab": {
          "base_uri": "https://localhost:8080/"
        },
        "id": "3gK7H1YihuQ6",
        "outputId": "34ef6db3-a477-4997-c9a3-87340e859316"
      },
      "source": [
        "#preprocess\n",
        "def length_refine(data):\n",
        "  max_length = 2000\n",
        "  counter =0\n",
        "  for item in data: \n",
        "    if len(item.seq)> max_length:\n",
        "      print(len(item.seq))\n",
        "     # counter += 1\n",
        "      max_length = len(item.seq)\n",
        "  print(max_length)\n",
        "length_refine(data)\n",
        "\n",
        "\n",
        "CHARSET = { 'A': 0, 'C': 1, 'D': 2, 'E': 3, 'F': 4, 'G': 5, 'H': 6, \\\n",
        "            'I': 7, 'K': 8, 'L': 9, 'M': 10, 'N': 11, 'P': 12, 'Q': 13, \\\n",
        "            'R': 14, 'S': 15, 'T': 16, 'V': 17, 'W': 18, 'Y': 19, 'X': 20, \\\n",
        "            'O': 20, 'U': 20,\n",
        "            'B': (2, 11),\n",
        "            'Z': (3, 13),\n",
        "            'J': (7, 9) }\n",
        "\n",
        "    "
      ],
      "execution_count": 14,
      "outputs": [
        {
          "output_type": "stream",
          "text": [
            "2521\n",
            "3456\n",
            "4660\n",
            "5150\n",
            "5206\n",
            "6306\n",
            "7388\n",
            "7388\n"
          ],
          "name": "stdout"
        }
      ]
    }
  ]
}